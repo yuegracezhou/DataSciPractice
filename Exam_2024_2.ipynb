{
 "cells": [
  {
   "cell_type": "markdown",
   "metadata": {
    "deletable": false
   },
   "source": [
    "# Exam 28th of August 2024, 8.00-13.00 for the course 1MS041 (Introduction to Data Science / Introduktion till dataanalys)\n",
    "\n",
    "## Instructions:\n",
    "1. Complete the problems by following instructions.\n",
    "2. When done, submit this file with your solutions saved, following the instruction sheet.\n",
    "\n",
    "This exam has 3 problems for a total of 40 points, to pass you need\n",
    "20 points. The bonus will be added to the score of the exam and rounded afterwards.\n",
    "\n",
    "## Some general hints and information:\n",
    "* Try to answer all questions even if you are uncertain.\n",
    "* Comment your code, so that if you get the wrong answer I can understand how you thought\n",
    "this can give you some points even though the code does not run.\n",
    "* Follow the instruction sheet rigorously.\n",
    "* This exam is partially autograded, but your code and your free text answers are manually graded anonymously.\n",
    "* If there are any questions, please ask the exam guards, they will escalate it to me if necessary.\n",
    "\n",
    "## Tips for free text answers\n",
    "* Be VERY clear with your reasoning, there should be zero ambiguity in what you are referring to.\n",
    "* If you want to include math, you can write LaTeX in the Markdown cells, for instance `$f(x)=x^2$` will be rendered as $f(x)=x^2$ and `$$f(x) = x^2$$` will become an equation line, as follows\n",
    "$$f(x) = x^2$$\n",
    "Another example is `$$f_{Y \\mid X}(y,x) = P(Y = y \\mid X = x) = \\exp(\\alpha \\cdot x + \\beta)$$` which renders as\n",
    "$$f_{Y \\mid X}(y,x) = P(Y = y \\mid X = x) = \\exp(\\alpha \\cdot x + \\beta)$$\n",
    "\n",
    "## Finally some rules:\n",
    "* You may not communicate with others during the exam, for example:\n",
    "    * You cannot ask for help in Stack-Overflow or other such help forums during the Exam.\n",
    "    * You may not communicate with AI's, for instance ChatGPT.\n",
    "    * Your on-line and off-line activity is being monitored according to the examination rules.\n",
    "\n",
    "## Good luck!"
   ]
  },
  {
   "cell_type": "code",
   "execution_count": null,
   "metadata": {
    "deletable": false
   },
   "outputs": [],
   "source": [
    "# Insert your anonymous exam ID as a string in the variable below\n",
    "examID=\"XXX\"\n"
   ]
  },
  {
   "cell_type": "markdown",
   "metadata": {
    "deletable": false,
    "lx_assignment_number": "vB",
    "lx_assignment_type": "EXAM",
    "lx_assignment_type2print": "Exam",
    "lx_problem_cell_type": "PROBLEM",
    "lx_problem_number": "1",
    "lx_problem_points": "14"
   },
   "source": [
    "---\n",
    "## Exam vB, PROBLEM 1\n",
    "Maximum Points = 14"
   ]
  },
  {
   "cell_type": "markdown",
   "metadata": {
    "deletable": false,
    "lx_assignment_number": "vB",
    "lx_assignment_type": "EXAM",
    "lx_assignment_type2print": "Exam",
    "lx_problem_cell_type": "PROBLEM",
    "lx_problem_number": "1",
    "lx_problem_points": "14"
   },
   "source": [
    "\n",
    "In this problem you will do rejection sampling from complicated distributions, you will also be using your samples to compute certain integrals, a method known as Monte Carlo integration: (Keep in mind that choosing a good sampling distribution is often key to avoid too much rejection)\n",
    "\n",
    "1. [4p] Fill in the remaining part of the function `problem1_rejection` in order to produce samples from the below density using **rejection** sampling:\n",
    "\n",
    "$$\n",
    "    f[x] = C (\\sin(x))^{10}\n",
    "$$\n",
    "for $0 \\leq x \\leq \\pi$, where $C$ is a value such that $f$ above is a density (i.e. integrates to one). Hint: you do not need to know the value of $C$ to perform rejection sampling.\n",
    "\n",
    "2. [2p] Produce 10000 samples (**use fewer if it takes too long**) and put the answer in `problem1_samples` from the above distribution and plot the histogram. \n",
    "3. [2p] Define $X$ as a random variable with the density given in part 1. Denote $Y = \\left ( X - \\frac{\\pi}{2} \\right)^2$ and use the above 10000 samples to estimate\n",
    "$$\n",
    "    \\mathbb{E}[Y]\n",
    "$$\n",
    "and store the result in `problem1_expectation`.\n",
    "\n",
    "4. [2p] Use Hoeffdings inequality to produce a 95\\% confidence interval of the expectation above and store the result as a tuple in the variable `problem1_interval`\n",
    "\n",
    "5. [4p] Can you calculate an approximation of the value of $C$ from part 1 using random samples? Provide a plot of the histogram from part 2 together with the true density as a curve, recall that this requires the value of $C$. Explain what method you used and what answer you got."
   ]
  },
  {
   "cell_type": "code",
   "execution_count": 11,
   "metadata": {
    "deletable": false,
    "lx_assignment_number": "vB",
    "lx_assignment_type": "EXAM",
    "lx_assignment_type2print": "Exam",
    "lx_problem_cell_type": "PROBLEM",
    "lx_problem_number": "1",
    "lx_problem_points": "14"
   },
   "outputs": [],
   "source": [
    "# Part 1\n",
    "\n",
    "import math\n",
    "import numpy as np\n",
    "\n",
    "def problem1_rejection(n_samples=1000):\n",
    "    \"\"\"\n",
    "    Generate samples from the given distribution using rejection sampling.\n",
    "\n",
    "    Parameters:\n",
    "    n_samples: int, number of samples to generate\n",
    "\n",
    "    Returns:\n",
    "    numpy array of samples\n",
    "    \"\"\"\n",
    "    # Define target PDF (f(x))\n",
    "    # 目标分布sin(x)^10最大值为 1（在 x = π/2 时达到最大）\n",
    "    def target_pdf(x):\n",
    "        return (math.sin(x) ** 10) if 0 <= x <= math.pi else 0\n",
    "\n",
    "    # Define proposal PDF (g(x)) as a uniform distribution over [0, π]\n",
    "    # 而候选分布 g(x) 必须覆盖目标分布的整个定义域 [0, π], 而不是[0, 1]。\n",
    "    def proposal_pdf(x):\n",
    "        return 1 if 0 <= x <= math.pi else 0\n",
    "\n",
    "    # Define M (scaling constant)\n",
    "    M = 1  # This works because f(x): sin(x)^10 ≤ Mg(x): 1 for all x in [0, π]\n",
    "\n",
    "    samples = []\n",
    "    count = 0  # For efficiency check\n",
    "\n",
    "    while len(samples) < n_samples:\n",
    "        # Generate candidate sample x from proposal distribution\n",
    "        x = np.random.uniform(0, math.pi)  # Uniformly sample x in [0, π]\n",
    "\n",
    "        # Generate a uniform random number for acceptance\n",
    "        u = np.random.uniform(0, M * proposal_pdf(x))\n",
    "\n",
    "        # Accept or reject the candidate\n",
    "        if u <= target_pdf(x):\n",
    "            samples.append(x)\n",
    "        count += 1  # Count the total iterations\n",
    "\n",
    "    print(f\"Generated {n_samples} samples with {count} total iterations.\")\n",
    "    return np.array(samples)"
   ]
  },
  {
   "cell_type": "code",
   "execution_count": 12,
   "metadata": {
    "deletable": false,
    "lx_assignment_number": "vB",
    "lx_assignment_type": "EXAM",
    "lx_assignment_type2print": "Exam",
    "lx_problem_cell_type": "PROBLEM",
    "lx_problem_number": "1",
    "lx_problem_points": "14"
   },
   "outputs": [
    {
     "name": "stdout",
     "output_type": "stream",
     "text": [
      "Generated 10000 samples with 40687 total iterations.\n"
     ]
    },
    {
     "data": {
      "image/png": "[encoded data removed]",
      "text/plain": [
       "<Figure size 432x288 with 1 Axes>"
      ]
     },
     "metadata": {
      "needs_background": "light"
     },
     "output_type": "display_data"
    }
   ],
   "source": [
    "# Part 2\n",
    "\n",
    "import matplotlib.pyplot as plt\n",
    "\n",
    "# Generate 10,000 samples using rejection sampling\n",
    "problem1_samples = problem1_rejection(n_samples=10000)\n",
    "\n",
    "# Plot histogram of the samples\n",
    "plt.hist(problem1_samples, bins=50, density=True, alpha=0.6, color='g', label=\"Samples\")\n",
    "\n",
    "# Overlay the target PDF for comparison\n",
    "x = np.linspace(0, math.pi, 500)\n",
    "y = [(math.sin(val) ** 10) for val in x]\n",
    "plt.plot(x, y, 'r-', label=\"Target PDF (f(x))\")\n",
    "\n",
    "plt.title(\"Rejection Sampling Histogram\")\n",
    "plt.xlabel(\"x\")\n",
    "plt.ylabel(\"Density\")\n",
    "plt.legend()\n",
    "plt.show()"
   ]
  },
  {
   "cell_type": "code",
   "execution_count": 17,
   "metadata": {
    "deletable": false,
    "lx_assignment_number": "vB",
    "lx_assignment_type": "EXAM",
    "lx_assignment_type2print": "Exam",
    "lx_problem_cell_type": "PROBLEM",
    "lx_problem_number": "1",
    "lx_problem_points": "14"
   },
   "outputs": [
    {
     "name": "stdout",
     "output_type": "stream",
     "text": [
      "E[Y]: 0.09177918093220427\n"
     ]
    }
   ],
   "source": [
    "# Part 3\n",
    "\n",
    "samples = np.array(problem1_samples)\n",
    "\n",
    "# 定义 Y 的公式\n",
    "Y = (samples - math.pi / 2) ** 2\n",
    "\n",
    "# 计算期望 E[Y]\n",
    "problem1_expectation = np.mean(Y)\n",
    "\n",
    "print(f\"E[Y]: {problem1_expectation}\")\n"
   ]
  },
  {
   "cell_type": "code",
   "execution_count": 31,
   "metadata": {
    "deletable": false,
    "lx_assignment_number": "vB",
    "lx_assignment_type": "EXAM",
    "lx_assignment_type2print": "Exam",
    "lx_problem_cell_type": "PROBLEM",
    "lx_problem_number": "1",
    "lx_problem_points": "14"
   },
   "outputs": [
    {
     "name": "stdout",
     "output_type": "stream",
     "text": [
      "95% confidence interval for E[Y]: (0.05826936919000491, 0.12528899267440363)\n"
     ]
    }
   ],
   "source": [
    "# Part 4\n",
    "# 从之前的代码生成的 Y 样本（长度为 n）来计算一个 95% 的置信区间（confidence interval）\n",
    "\n",
    "import numpy as np\n",
    "import math\n",
    "\n",
    "# 假设我们已经有 n 个样本的 Y 值\n",
    "n = 10000  # 样本数量\n",
    "Y_mean = problem1_expectation\n",
    "\n",
    "# Y 的范围 [a, b]\n",
    "a = 0  # 最小值发生在 X = π/2\n",
    "b = (math.pi/2)**2  # 最大值发生在 X = 0 或 X = π\n",
    "\n",
    "# Hoeffding's inequality 参数\n",
    "delta = 0.05  # 1 - 置信水平\n",
    "epsilon = math.sqrt(((b - a)**2 * math.log(2 / delta)) / (2 * n))\n",
    "\n",
    "# 计算置信区间\n",
    "problem1_interval = (Y_mean - epsilon, Y_mean + epsilon)\n",
    "\n",
    "print(f\"95% confidence interval for E[Y]: {problem1_interval}\")\n"
   ]
  },
  {
   "cell_type": "code",
   "execution_count": 14,
   "metadata": {
    "deletable": false,
    "lx_assignment_number": "vB",
    "lx_assignment_type": "EXAM",
    "lx_assignment_type2print": "Exam",
    "lx_problem_cell_type": "PROBLEM",
    "lx_problem_number": "1",
    "lx_problem_points": "14"
   },
   "outputs": [],
   "source": [
    "# Part 5\n",
    "import numpy as np\n",
    "import matplotlib.pyplot as plt\n",
    "import math\n",
    "\n",
    "# 定义目标概率密度函数 f(x)\n",
    "def target_pdf(x):\n",
    "    return (np.sin(x)) ** 10 if 0 <= x <= math.pi else 0\n",
    "\n",
    "# 蒙特卡洛积分估计归一化系数 C\n",
    "def estimate_C(samples=100000):\n",
    "    x_samples = np.random.uniform(0, math.pi, samples)\n",
    "    integral_estimate = np.mean([(np.sin(x)) ** 10 for x in x_samples]) * math.pi\n",
    "    C = 1 / integral_estimate\n",
    "    return C\n",
    "\n",
    "problem1_C = estimate_C()"
   ]
  },
  {
   "cell_type": "code",
   "execution_count": 32,
   "metadata": {
    "deletable": false,
    "lx_assignment_number": "vB",
    "lx_assignment_type": "EXAM",
    "lx_assignment_type2print": "Exam",
    "lx_problem_cell_type": "PROBLEM",
    "lx_problem_number": "1",
    "lx_problem_points": "14"
   },
   "outputs": [
    {
     "name": "stdout",
     "output_type": "stream",
     "text": [
      "Estimated C: 1.2935104828175912\n"
     ]
    },
    {
     "data": {
      "image/png": "[encoded data removed]",
      "text/plain": [
       "<Figure size 432x288 with 1 Axes>"
      ]
     },
     "metadata": {
      "needs_background": "light"
     },
     "output_type": "display_data"
    }
   ],
   "source": [
    "# Part 5\n",
    "\n",
    "# Write your code to produce the plot here\n",
    "\n",
    "# 生成样本并画图\n",
    "def plot_samples_and_density(n_samples=10000):\n",
    "    # 估计 C\n",
    "    C = estimate_C()\n",
    "    print(f\"Estimated C: {C}\")\n",
    "\n",
    "    # 生成样本\n",
    "    samples = []\n",
    "    while len(samples) < n_samples:\n",
    "        x = np.random.uniform(0, math.pi)\n",
    "        u = np.random.uniform(0, C * 1)  # 候选分布 g(x) = 1\n",
    "        if u <= target_pdf(x):\n",
    "            samples.append(x)\n",
    "\n",
    "    # 绘制直方图\n",
    "    plt.hist(samples, bins=50, density=True, alpha=0.6, label=\"Sampled Histogram\")\n",
    "\n",
    "    # 绘制真实分布\n",
    "    x_vals = np.linspace(0, math.pi, 1000)\n",
    "    y_vals = [C * target_pdf(x) for x in x_vals]\n",
    "    plt.plot(x_vals, y_vals, label=\"True Density (Scaled)\", color=\"red\")\n",
    "\n",
    "    plt.xlabel(\"x\")\n",
    "    plt.ylabel(\"Density\")\n",
    "    plt.title(\"Histogram of Samples and True Density\")\n",
    "    plt.legend()\n",
    "    plt.show()\n",
    "\n",
    "# 执行函数\n",
    "plot_samples_and_density()\n"
   ]
  },
  {
   "cell_type": "markdown",
   "metadata": {
    "deletable": false,
    "lx_assignment_number": "vB",
    "lx_assignment_type": "EXAM",
    "lx_assignment_type2print": "Exam",
    "lx_problem_cell_type": "PROBLEM",
    "lx_problem_number": "1",
    "lx_problem_points": "14"
   },
   "source": [
    "# Part 5\n",
    "\n",
    "**Double click this cell and directly edit below to answer part 5**\n",
    "\n",
    "### Begin explanation\n",
    "\n",
    "Bla di bla\n",
    "\n",
    "### End explanation"
   ]
  },
  {
   "cell_type": "markdown",
   "metadata": {
    "deletable": false,
    "lx_assignment_number": "vB",
    "lx_assignment_type": "EXAM",
    "lx_assignment_type2print": "Exam",
    "lx_problem_cell_type": "Test",
    "lx_problem_number": "1",
    "lx_problem_points": "14"
   },
   "source": [
    "---\n",
    "#### Local Test for Exam vB, PROBLEM 1\n",
    "Evaluate cell below to make sure your answer is valid.                             You **should not** modify anything in the cell below when evaluating it to do a local test of                             your solution.\n",
    "You may need to include and evaluate code snippets from lecture notebooks in cells above to make the local test work correctly sometimes (see error messages for clues). This is meant to help you become efficient at recalling materials covered in lectures that relate to this problem. Such local tests will generally not be available in the exam."
   ]
  },
  {
   "cell_type": "code",
   "execution_count": null,
   "metadata": {
    "deletable": false,
    "lx_assignment_number": "vB",
    "lx_assignment_type": "EXAM",
    "lx_assignment_type2print": "Exam",
    "lx_problem_cell_type": "Test",
    "lx_problem_number": "1",
    "lx_problem_points": "14"
   },
   "outputs": [],
   "source": [
    "\n",
    "# This cell is just to check that you got the correct formats of your answer\n",
    "import numpy as np\n",
    "try:\n",
    "    assert(isinstance(problem1_rejection(10), np.ndarray)) \n",
    "except:\n",
    "    print(\"Try again. You should return a numpy array from problem1_rejection\")\n",
    "else:\n",
    "    print(\"Good, your problem1_rejection returns a numpy array\")\n",
    "\n",
    "try:\n",
    "    assert(isinstance(problem1_samples, np.ndarray)) \n",
    "except:\n",
    "    print(\"Try again. your problem1_samples is not a numpy array\")\n",
    "else:\n",
    "    print(\"Good, your problem1_samples is a numpy array\")\n",
    "\n",
    "try:\n",
    "    assert(isinstance(problem1_expectation, float)) \n",
    "except:\n",
    "    print(\"Try again. your problem1_expectation is not a float\")\n",
    "else:\n",
    "    print(\"Good, your problem1_expectation is a float\")\n",
    "\n",
    "try:\n",
    "    assert(isinstance(problem1_interval, list) or isinstance(problem1_interval, tuple)) , \"problem1_interval not a tuple or list\"\n",
    "    assert(len(problem1_interval) == 2) , \"problem1_interval does not have length 2, it should have a lower bound and an upper bound\"\n",
    "except Exception as e:\n",
    "    print(e)\n",
    "else:\n",
    "    print(\"Good, your problem1_interval is a tuple or list of length 2\")"
   ]
  },
  {
   "cell_type": "markdown",
   "metadata": {
    "deletable": false,
    "lx_assignment_number": "vB",
    "lx_assignment_type": "EXAM",
    "lx_assignment_type2print": "Exam",
    "lx_problem_cell_type": "PROBLEM",
    "lx_problem_number": "2",
    "lx_problem_points": "13"
   },
   "source": [
    "---\n",
    "## Exam vB, PROBLEM 2\n",
    "Maximum Points = 13"
   ]
  },
  {
   "cell_type": "markdown",
   "metadata": {
    "deletable": false,
    "lx_assignment_number": "vB",
    "lx_assignment_type": "EXAM",
    "lx_assignment_type2print": "Exam",
    "lx_problem_cell_type": "PROBLEM",
    "lx_problem_number": "2",
    "lx_problem_points": "13"
   },
   "source": [
    "\n",
    "Consider the dataset `CORIS.csv` that you find in the data folder. The data set `CORIS.csv` contains cases of coronary heart disease (CHD) and variables associated with the patient's condition: systolic blood pressure, yearly tobacco use (in kg), low density lipoprotein (Idl), adiposity, family history (0 or 1), type A personality score (typea), obesity (body mass index), alcohol use, age, and the diagnosis of CHD (0 or 1).\n",
    "In this dataset the `X` corresponds to the measurements. The `Y` is a 0-1 label where 1 represents CHD and 0 does not. The code to load the data is prepared and so is the train-test-validation split and the training of the model. The model is stored in `problem2_pipe` which is a Pipeline object as often used in composite models in sklearn, you will find in the cell corresponding to the different parts, some sample code how to use the model.\n",
    "\n",
    "1. [3p] Use Hoeffdings inequality and compute the intervals for precision-recall etc. on the test set with 95% confidence.\n",
    "2. [3p] You are interested in minimizing the average cost of your classifier. The hospital wants to use your model as a screening tool, that is, if it finds that someone is classified as CHD we interpret this as further investigation needs to take place, otherwise we do noting. After some deliberations you come to the conclusion that the following \"costs\" should be used (note, this is all imaginary at this point),\n",
    "    * If someone has coronary heart disease but classified as not, we say it costs 300 **(this is the worst scenario)** \n",
    "    * If someone does not have coronary heart disease but classified as having it, we say it costs 10 **(this is less bad than the above issue)**\n",
    "    * If someone has coronary heart disease but classified as having it, costs 0 **(We did the right thing, no cost)**\n",
    "    * If someone does not have coronary heart disease but classified as not, costs 0 **(We did the right thing, no cost)**.\n",
    "\n",
    "complete filling the function `cost` to compute the cost of a prediction model under a certain prediction threshold \n",
    "(recall our precision recall lecture and the `predict_proba` function from the LogisticRegression (code provided)). \n",
    "\n",
    "3. [4p] Now, we wish to select the threshold of our classifier that minimizes the cost, we do that by checking say 100 evenly spaced proposal thresholds between 0 and 1. Compute the optimal threshold using the testing data and calculate the cost at the chosen threshold using the testing data.\n",
    "4. [3p] With your newly computed threshold value, compute the cost of putting this model in production by computing the cost using the validation data. Also provide a confidence interval of the cost using Hoeffdings inequality with a 99% confidence."
   ]
  },
  {
   "cell_type": "code",
   "execution_count": 1,
   "metadata": {
    "deletable": false,
    "lx_assignment_number": "vB",
    "lx_assignment_type": "EXAM",
    "lx_assignment_type2print": "Exam",
    "lx_problem_cell_type": "PROBLEM",
    "lx_problem_number": "2",
    "lx_problem_points": "13"
   },
   "outputs": [
    {
     "name": "stdout",
     "output_type": "stream",
     "text": [
      "(277, 9) (277,) (92, 9) (92,) (93, 9) (93,)\n"
     ]
    },
    {
     "data": {
      "text/plain": [
       "Pipeline(steps=[('scaler', StandardScaler()),\n",
       "                ('logreg', LogisticRegression(random_state=42))])"
      ]
     },
     "execution_count": 1,
     "metadata": {},
     "output_type": "execute_result"
    }
   ],
   "source": [
    "# RUN THIS CELL TO LOAD THE DATA AND SPLIT IT INTO TRAINING, TEST AND VALIDATION SETS\n",
    "# FINALLY IT TRAINS THE MODEL AS A PIPELINE\n",
    "\n",
    "import pandas as pd\n",
    "from sklearn.model_selection import train_test_split\n",
    "\n",
    "CORISDataset = pd.read_csv(\"data/CORIS.csv\",skiprows=[1,2])\n",
    "\n",
    "# Initial data split into features and target\n",
    "problem2_X = CORISDataset[['sbp','tobacco','ldl','adiposity','famhist','typea','obesity','alcohol','age']].values # Features\n",
    "problem2_Y = CORISDataset['chd'].values # Target variable\n",
    "\n",
    "# Split the data into training, test and validation sets\n",
    "problem2_X_train, X_tmp, problem2_Y_train, Y_tmp = train_test_split(problem2_X,problem2_Y,train_size=0.6,random_state=42)\n",
    "problem2_X_test, problem2_X_val, problem2_Y_test, problem2_Y_val = train_test_split(X_tmp,Y_tmp,train_size=0.5,random_state=42)\n",
    "\n",
    "# Show the shapes of the data\n",
    "print(problem2_X_train.shape,problem2_Y_train.shape, problem2_X_test.shape, problem2_Y_test.shape, problem2_X_val.shape, problem2_Y_val.shape)\n",
    "\n",
    "from sklearn.pipeline import Pipeline\n",
    "from sklearn.preprocessing import StandardScaler\n",
    "from sklearn.linear_model import LogisticRegression\n",
    "\n",
    "# Create a pipeline with a scaler and a logistic regression model\n",
    "problem2_pipe = Pipeline([('scaler',StandardScaler()),('logreg',LogisticRegression(random_state=42))])\n",
    "\n",
    "# Fit the pipeline to the training data\n",
    "problem2_pipe.fit(problem2_X_train,problem2_Y_train)"
   ]
  },
  {
   "cell_type": "code",
   "execution_count": 9,
   "metadata": {},
   "outputs": [],
   "source": [
    "import numpy as np\n",
    "\n",
    "def hoeffding_confidence_interval(value, n, confidence_level=0.95):\n",
    "    \"\"\"\n",
    "    使用 Hoeffding 不等式计算置信区间。\n",
    "    \n",
    "    参数:\n",
    "    - value: 精确率或召回率的经验值 (precision/recall)。\n",
    "    - n: 样本数量。\n",
    "    - confidence_level: 置信水平 (默认为 95%)。\n",
    "\n",
    "    返回:\n",
    "    - (lower_bound, upper_bound): 置信区间。\n",
    "    \"\"\"\n",
    "    delta = 1 - confidence_level  # 映射置信水平到 delta\n",
    "    epsilon = np.sqrt(np.log(2 / delta) / (2 * n))  # Hoeffding 界限\n",
    "#     lower_bound = max(0, value - epsilon)  # 确保下界不小于 0\n",
    "#     upper_bound = min(1, value + epsilon)  # 确保上界不大于 1\n",
    "    lower_bound = value - epsilon # 确保下界不小于 0\n",
    "    upper_bound = value + epsilon  # 确保上界不大于 1\n",
    "    return lower_bound, upper_bound\n"
   ]
  },
  {
   "cell_type": "code",
   "execution_count": 10,
   "metadata": {},
   "outputs": [
    {
     "name": "stdout",
     "output_type": "stream",
     "text": [
      "Model Accuracy: 0.7391304347826086\n",
      "Overall F1-Score (Weighted): 0.6129032258064516\n",
      "Classification Report:\n",
      "              precision    recall  f1-score   support\n",
      "\n",
      "           0       0.77      0.84      0.80        58\n",
      "           1       0.68      0.56      0.61        34\n",
      "\n",
      "    accuracy                           0.74        92\n",
      "   macro avg       0.72      0.70      0.71        92\n",
      "weighted avg       0.73      0.74      0.73        92\n",
      "\n"
     ]
    }
   ],
   "source": [
    "from sklearn.metrics import accuracy_score, f1_score, precision_score, recall_score, classification_report\n",
    "\n",
    "predictions_test = problem2_pipe.predict(problem2_X_test)\n",
    "\n",
    "print(\"Model Accuracy:\", accuracy_score(problem2_Y_test, predictions_test))\n",
    "print(\"Overall F1-Score (Weighted):\", f1_score(problem2_Y_test, predictions_test))\n",
    "print(\"Classification Report:\")\n",
    "print(classification_report(problem2_Y_test, predictions_test))"
   ]
  },
  {
   "cell_type": "code",
   "execution_count": 11,
   "metadata": {
    "deletable": false,
    "lx_assignment_number": "vB",
    "lx_assignment_type": "EXAM",
    "lx_assignment_type2print": "Exam",
    "lx_problem_cell_type": "PROBLEM",
    "lx_problem_number": "2",
    "lx_problem_points": "13"
   },
   "outputs": [
    {
     "name": "stdout",
     "output_type": "stream",
     "text": [
      "精确率0的 95% 置信区间: (0.591672534506717, 0.9483274654932831)\n",
      "精确率1的 95% 置信区间: (0.4470875115705871, 0.912912488429413)\n",
      "召回率0的 95% 置信区间: (0.6616725345067169, 1.018327465493283)\n",
      "召回率1的 95% 置信区间: (0.32708751157058713, 0.792912488429413)\n"
     ]
    }
   ],
   "source": [
    "# Part 1\n",
    "\n",
    "# To make a prediction on a dataset `X` you can use the following code\n",
    "# predictions = problem2_pipe.predict(X)\n",
    "# That is, as with any other sklearn model, you can use the `predict` method\n",
    "\n",
    "# Each precision and recall should be a tuple, for instance you can write\n",
    "# precision0 = (0.9,0.95)\n",
    "# the 0 or 1 in the variable name indicates the class\n",
    "\n",
    "problem2_precision0 = 0.77\n",
    "problem2_recall0 = 0.84\n",
    "problem2_precision1 = 0.68\n",
    "problem2_recall1 = 0.56\n",
    "\n",
    "# 计算每个类别的精确率和召回率的置信区间\n",
    "problem2_precision0_ci = hoeffding_confidence_interval(problem2_precision0, n=58)\n",
    "problem2_precision1_ci = hoeffding_confidence_interval(problem2_precision1, n=34)\n",
    "problem2_recall0_ci = hoeffding_confidence_interval(problem2_recall0, n=58)\n",
    "problem2_recall1_ci = hoeffding_confidence_interval(problem2_recall1, n=34)\n",
    "\n",
    "# 将结果存储为元组\n",
    "problem2_precision0 = problem2_precision0_ci\n",
    "problem2_precision1 = problem2_precision1_ci\n",
    "problem2_recall0 = problem2_recall0_ci\n",
    "problem2_recall1 = problem2_recall1_ci\n",
    "\n",
    "print(f\"精确率0的 95% 置信区间: {problem2_precision0}\")\n",
    "print(f\"精确率1的 95% 置信区间: {problem2_precision1}\")\n",
    "print(f\"召回率0的 95% 置信区间: {problem2_recall0}\")\n",
    "print(f\"召回率1的 95% 置信区间: {problem2_recall1}\")\n",
    "\n",
    "# The code below will check that you supply the proper type\n",
    "assert(type(problem2_precision0) == tuple)\n",
    "assert(len(problem2_precision0) == 2)\n",
    "assert(type(problem2_recall0) == tuple)\n",
    "assert(len(problem2_recall0) == 2)\n",
    "assert(type(problem2_precision1) == tuple)\n",
    "assert(len(problem2_precision1) == 2)\n",
    "assert(type(problem2_recall1) == tuple)\n",
    "assert(len(problem2_recall1) == 2)\n"
   ]
  },
  {
   "cell_type": "code",
   "execution_count": 12,
   "metadata": {
    "deletable": false,
    "lx_assignment_number": "vB",
    "lx_assignment_type": "EXAM",
    "lx_assignment_type2print": "Exam",
    "lx_problem_cell_type": "PROBLEM",
    "lx_problem_number": "2",
    "lx_problem_points": "13"
   },
   "outputs": [
    {
     "data": {
      "text/plain": [
       "49.891304347826086"
      ]
     },
     "execution_count": 12,
     "metadata": {},
     "output_type": "execute_result"
    }
   ],
   "source": [
    "# Part 2\n",
    "from sklearn.metrics import confusion_matrix\n",
    "\n",
    "def problem2_cost(model, threshold, X, Y):\n",
    "    \"\"\"\n",
    "    Calculate the weighted cost of predictions based on a specific threshold.\n",
    "\n",
    "    Parameters:\n",
    "    - model: The trained classifier with a `predict_proba` method.\n",
    "    - threshold: The prediction threshold to classify samples as positive.\n",
    "    - X: Feature matrix.\n",
    "    - Y: True labels.\n",
    "\n",
    "    Returns:\n",
    "    - cost: The average weighted cost per person.\n",
    "    \"\"\"\n",
    "    # 1. 获取预测概率和基于门槛的分类结果\n",
    "    pred_proba = model.predict_proba(X)[:, 1] # 获取每个样本的正类概率，例如[0.8, 0.3, 0.6]\n",
    "    predictions = (pred_proba >= threshold).astype(int) # 例如[True, False, True]，再转化为0和1\n",
    "\n",
    "    # 2. 获取混淆矩阵的值\n",
    "    tn, fp, fn, tp = confusion_matrix(Y, predictions).ravel()\n",
    "\n",
    "    # 3. 根据提供的权重定义成本\n",
    "    cost_fn = 300  # False Negative cost\n",
    "    cost_fp = 10   # False Positive cost\n",
    "\n",
    "    # 4. 计算总成本\n",
    "    total_cost = fn * cost_fn + fp * cost_fp\n",
    "#     print(\"total_cost:\", total_cost)\n",
    "\n",
    "    # 5. 返回平均成本（总成本/总人数）\n",
    "    avg_cost = total_cost / len(Y)\n",
    "#     print(\"avg_cost:\", avg_cost)\n",
    "    return avg_cost\n",
    "\n",
    "problem2_cost(model=problem2_pipe, threshold=0.5, X=problem2_X_test, Y=problem2_Y_test)"
   ]
  },
  {
   "cell_type": "code",
   "execution_count": 13,
   "metadata": {
    "deletable": false,
    "lx_assignment_number": "vB",
    "lx_assignment_type": "EXAM",
    "lx_assignment_type2print": "Exam",
    "lx_problem_cell_type": "PROBLEM",
    "lx_problem_number": "2",
    "lx_problem_points": "13"
   },
   "outputs": [
    {
     "name": "stdout",
     "output_type": "stream",
     "text": [
      "Optimal Threshold: 0.0707\n",
      "Minimum Cost on Test Data: 5.22\n"
     ]
    }
   ],
   "source": [
    "# Part 3\n",
    "import numpy as np\n",
    "\n",
    "def find_optimal_threshold(model, X, Y):\n",
    "    \"\"\"\n",
    "    Find the optimal threshold for the classifier that minimizes the cost.\n",
    "\n",
    "    Parameters:\n",
    "    - model: The trained classifier with a `predict_proba` method.\n",
    "    - X: Feature matrix.\n",
    "    - Y: True labels.\n",
    "\n",
    "    Returns:\n",
    "    - optimal_threshold: The threshold that minimizes the cost.\n",
    "    - min_cost: The minimum cost at the optimal threshold.\n",
    "    \"\"\"\n",
    "    thresholds = np.linspace(0, 1, 100)  # 100 evenly spaced thresholds between 0 and 1\n",
    "    costs = []\n",
    "\n",
    "    # Iterate over all thresholds and calculate the cost\n",
    "    for threshold in thresholds:\n",
    "        cost = problem2_cost(model, threshold, X, Y)\n",
    "        costs.append(cost)\n",
    "\n",
    "    # Find the threshold with the minimum cost\n",
    "    min_cost = min(costs)\n",
    "    optimal_threshold = thresholds[np.argmin(costs)]\n",
    "    return optimal_threshold, min_cost\n",
    "\n",
    "# Find the optimal threshold and its associated cost on the test data\n",
    "problem2_optimal_threshold, problem2_cost_at_optimal_threshold = find_optimal_threshold(problem2_pipe, problem2_X_test, problem2_Y_test)\n",
    "\n",
    "print(f\"Optimal Threshold: {problem2_optimal_threshold:.4f}\")\n",
    "print(f\"Minimum Cost on Test Data: {problem2_cost_at_optimal_threshold:.2f}\")\n"
   ]
  },
  {
   "cell_type": "code",
   "execution_count": 14,
   "metadata": {},
   "outputs": [
    {
     "data": {
      "image/png": "[encoded data removed]",
      "text/plain": [
       "<Figure size 720x432 with 1 Axes>"
      ]
     },
     "metadata": {
      "needs_background": "light"
     },
     "output_type": "display_data"
    }
   ],
   "source": [
    "# 可视化\n",
    "import matplotlib.pyplot as plt\n",
    "\n",
    "def plot_threshold_vs_cost(model, X, Y):\n",
    "    \"\"\"\n",
    "    Plot the relationship between thresholds and cost.\n",
    "\n",
    "    Parameters:\n",
    "    - model: The trained classifier with a `predict_proba` method.\n",
    "    - X: Feature matrix.\n",
    "    - Y: True labels.\n",
    "    \"\"\"\n",
    "    thresholds = np.linspace(0, 1, 100)  # 100 evenly spaced thresholds between 0 and 1\n",
    "    costs = []\n",
    "\n",
    "    # Iterate over all thresholds and calculate the cost\n",
    "    for threshold in thresholds:\n",
    "        cost = problem2_cost(model, threshold, X, Y)\n",
    "        costs.append(cost)\n",
    "\n",
    "    # Find the optimal threshold and its associated cost\n",
    "    optimal_threshold = thresholds[np.argmin(costs)]\n",
    "    min_cost = min(costs)\n",
    "\n",
    "    # Plot the thresholds vs cost\n",
    "    plt.figure(figsize=(10, 6))\n",
    "    plt.plot(thresholds, costs, label=\"Cost vs Threshold\", color=\"blue\")\n",
    "    plt.axvline(x=optimal_threshold, color=\"red\", linestyle=\"--\", label=f\"Optimal Threshold = {optimal_threshold:.2f}\")\n",
    "    plt.scatter(optimal_threshold, min_cost, color=\"red\", label=f\"Min Cost = {min_cost:.2f}\")\n",
    "    plt.xlabel(\"Threshold\")\n",
    "    plt.ylabel(\"Cost\")\n",
    "    plt.title(\"Threshold vs Cost\")\n",
    "    plt.legend()\n",
    "    plt.grid()\n",
    "    plt.show()\n",
    "\n",
    "# Visualize threshold vs cost for the test data\n",
    "plot_threshold_vs_cost(problem2_pipe, problem2_X_test, problem2_Y_test)\n"
   ]
  },
  {
   "cell_type": "code",
   "execution_count": 15,
   "metadata": {
    "deletable": false,
    "lx_assignment_number": "vB",
    "lx_assignment_type": "EXAM",
    "lx_assignment_type2print": "Exam",
    "lx_problem_cell_type": "PROBLEM",
    "lx_problem_number": "2",
    "lx_problem_points": "13"
   },
   "outputs": [
    {
     "name": "stdout",
     "output_type": "stream",
     "text": [
      "最小成本 99% 置信区间: (5.530148022957088, 5.867701439408504)\n"
     ]
    }
   ],
   "source": [
    "# Part 4\n",
    "\n",
    "problem2_cost_at_optimal_threshold_validation = problem2_cost(\n",
    "    model=problem2_pipe, threshold=problem2_optimal_threshold, X=problem2_X_val, Y=problem2_Y_val)\n",
    "\n",
    "# Report the cost interval as a tuple cost_interval = (a,b)\n",
    "\n",
    "problem2_cost_interval = hoeffding_confidence_interval(\n",
    "    value=problem2_cost_at_optimal_threshold_validation, n=93, confidence_level=0.99)\n",
    "print(f\"最小成本 99% 置信区间: {problem2_cost_interval}\")\n",
    "\n",
    "# The code below will tell you if you filled in the intervals correctly\n",
    "assert(type(problem2_cost_interval) == tuple)\n",
    "assert(len(problem2_cost_interval) == 2)"
   ]
  },
  {
   "cell_type": "markdown",
   "metadata": {
    "deletable": false,
    "lx_assignment_number": "vB",
    "lx_assignment_type": "EXAM",
    "lx_assignment_type2print": "Exam",
    "lx_problem_cell_type": "PROBLEM",
    "lx_problem_number": "3",
    "lx_problem_points": "13"
   },
   "source": [
    "---\n",
    "## Exam vB, PROBLEM 3\n",
    "Maximum Points = 13"
   ]
  },
  {
   "cell_type": "markdown",
   "metadata": {
    "deletable": false,
    "lx_assignment_number": "vB",
    "lx_assignment_type": "EXAM",
    "lx_assignment_type2print": "Exam",
    "lx_problem_cell_type": "PROBLEM",
    "lx_problem_number": "3",
    "lx_problem_points": "13"
   },
   "source": [
    "\n",
    "Consider the following two Markov chains:\n",
    "\n",
    "<img width=\"400px\" src=\"pictures/MarkovA.png\">Markov chain A</img>\n",
    "<img width=\"400px\" src=\"pictures/MarkovB.png\">Markov chain B</img>\n",
    "\n",
    "**Answer each question for all chains:**\n",
    "1. [2p] What is the transition matrix?\n",
    "2. [1p] Is the Markov chain irreducible?\n",
    "3. [4p] Is the Markov chain aperiodic? What is the period for each state? Hint: Recall our definition of period; Let $\\mathbb{T}:=\\{t \\in \\mathbb{N}: P^t(x,x) > 0\\}$ and the greatest common divisor of $\\mathbb{T}$ is the period.\n",
    "4. [2p] Being in state $A$ at time $0$ what is the probability of being in state $B$ at time $5$ (after $5$ steps)\n",
    "5. [4p] Define $T$ as the first time being in state $D$ starting in state $A$. That is, if $X_0,X_1,\\ldots$ is the Markov chain then define for $X_0 = \"A\"$\n",
    "$$\n",
    "    T(\\omega) = \\inf_{t \\in \\mathbb{N}} \\{t: X_t(\\omega) = \"D\"\\}\n",
    "$$\n",
    "where the infimum over the empty set is $\\infty$. Calculate $\\mathbb{P}(T = 1)$, $\\mathbb{P}(T = 2)$, $\\mathbb{P}(T = 3)$, $\\mathbb{P}(T = 4)$, $\\mathbb{P}(T = 5)$, $\\mathbb{P}(T = \\infty)$."
   ]
  },
  {
   "cell_type": "code",
   "execution_count": null,
   "metadata": {},
   "outputs": [],
   "source": [
    "import numpy as np\n",
    "#------------------------TRANSITION MATRIX -------------------------------\n",
    "\n",
    "problem3_A    = np.array([\n",
    "    [0.0, 0.2, 0.0, 0.8],\n",
    "    [0.0, 0.0, 1.0, 0.0],\n",
    "    [0.0, 1.0, 0.0, 0.0],\n",
    "    [0.5, 0.0, 0.5, 0.0]\n",
    "])\n"
   ]
  },
  {
   "cell_type": "code",
   "execution_count": 20,
   "metadata": {
    "deletable": false,
    "lx_assignment_number": "vB",
    "lx_assignment_type": "EXAM",
    "lx_assignment_type2print": "Exam",
    "lx_problem_cell_type": "PROBLEM",
    "lx_problem_number": "3",
    "lx_problem_points": "13"
   },
   "outputs": [],
   "source": [
    "# PART 1\n",
    "import numpy as np\n",
    "#------------------------TRANSITION MATRIX -------------------------------\n",
    "# Answer each one by supplying the transition matrix as a numpy array\n",
    "# of shape (n_states,n_states), where state (A,B,...) corresponds to index (0,1,...)\n",
    "\n",
    "problem3_A    = np.array([\n",
    "    [0.0, 0.2, 0.0, 0.8],\n",
    "    [0.0, 0.0, 1.0, 0.0],\n",
    "    [0.0, 1.0, 0.0, 0.0],\n",
    "    [0.5, 0.0, 0.5, 0.0]\n",
    "])\n",
    "problem3_B    = np.array([\n",
    "    [0.0, 1.0, 0.0, 0.0, 0.0, 0.0],\n",
    "    [0.0, 0.0, 1.0, 0.0, 0.0, 0.0],\n",
    "    [0.0, 0.5, 0.0, 0.5, 0.0, 0.0],\n",
    "    [0.0, 0.0, 0.5, 0.0, 0.5, 0.0],\n",
    "    [0.0, 0.0, 0.0, 0.0, 0.0, 1.0],\n",
    "    [0.5, 0.0, 0.0, 0.0, 0.0, 0.5]\n",
    "])"
   ]
  },
  {
   "cell_type": "code",
   "execution_count": 68,
   "metadata": {},
   "outputs": [
    {
     "name": "stdout",
     "output_type": "stream",
     "text": [
      "Markov chain and Digraph have been successfully constructed.\n",
      "The size of transition matrix P_0 is: (4, 4)\n",
      "Whether it is a qualified transition matrix: The matrix is a valid transition matrix.\n",
      "Markov chain and Digraph have been successfully constructed.\n",
      "The size of transition matrix P_1 is: (6, 6)\n",
      "Whether it is a qualified transition matrix: The matrix is a valid transition matrix.\n",
      "The directed graph (Digraph) has been successfully constructed.\n",
      "Number of nodes: 4\n",
      "Number of edges: 6\n",
      "Graph edges with weights:\n",
      "Edge from 0 to 1, weight = 0.2\n",
      "Edge from 0 to 3, weight = 0.8\n",
      "Edge from 1 to 2, weight = 1.0\n",
      "Edge from 3 to 0, weight = 0.5\n",
      "Edge from 3 to 2, weight = 0.5\n",
      "Edge from 2 to 1, weight = 1.0\n",
      "The directed graph (Digraph) has been successfully constructed.\n",
      "Number of nodes: 6\n",
      "Number of edges: 9\n",
      "Graph edges with weights:\n",
      "Edge from 0 to 1, weight = 1.0\n",
      "Edge from 1 to 2, weight = 1.0\n",
      "Edge from 2 to 1, weight = 0.5\n",
      "Edge from 2 to 3, weight = 0.5\n",
      "Edge from 3 to 2, weight = 0.5\n",
      "Edge from 3 to 4, weight = 0.5\n",
      "Edge from 4 to 5, weight = 1.0\n",
      "Edge from 5 to 0, weight = 0.5\n",
      "Edge from 5 to 5, weight = 0.5\n"
     ]
    }
   ],
   "source": [
    "#转移矩阵检查\n",
    "\n",
    "Ps=[problem3_A,problem3_B]\n",
    "# 验证转移矩阵的合法性\n",
    "def is_valid_transition_matrix(P):\n",
    "    # 1. 检查是否为方阵\n",
    "    if P.shape[0] != P.shape[1]:\n",
    "        return False, \"The matrix is not square.\"\n",
    "\n",
    "    # 2. 检查是否所有元素为非负数\n",
    "    if not np.all(P >= 0):\n",
    "        return False, \"The matrix contains negative elements.\"\n",
    "\n",
    "    # 3. 检查每行是否归一化为 1\n",
    "    if not np.allclose(np.sum(P, axis=1), 1):\n",
    "        return False, \"The rows do not sum to 1.\"\n",
    "\n",
    "    return True, \"The matrix is a valid transition matrix.\"\n",
    "\n",
    "# 验证转移矩阵\n",
    "is_vlid_list=[]\n",
    "for i, p in enumerate(Ps):  # 使用 enumerate 获取索引 i 和矩阵 p\n",
    "    is_valid, message = is_valid_transition_matrix(p)\n",
    "    is_vlid_list.append(is_valid)\n",
    "    \n",
    "    # 输出验证结果\n",
    "    print(f\"Markov chain and Digraph have been successfully constructed.\")\n",
    "    print(f\"The size of transition matrix P_{i} is: {p.shape}\")\n",
    "    print(f\"Whether it is a qualified transition matrix: {message}\")\n",
    "\n",
    "\n",
    "# 如果转移矩阵有效，构建有向图\n",
    "G_list=[]\n",
    "for i, p in enumerate(Ps):\n",
    "    if is_vlid_list[i]:\n",
    "        # 1. 构建有向图\n",
    "        G = nx.DiGraph()\n",
    "        \n",
    "        # 添加边和权重\n",
    "        for i in range(p.shape[0]):\n",
    "            for j in range(p.shape[1]):\n",
    "                if p[i, j] > 0:  # 仅添加非零权重的边\n",
    "                    G.add_edge(i, j, weight=p[i, j])\n",
    "        \n",
    "        # 打印构建结果\n",
    "        print(\"The directed graph (Digraph) has been successfully constructed.\")\n",
    "        print(\"Number of nodes:\", G.number_of_nodes())\n",
    "        print(\"Number of edges:\", G.number_of_edges())\n",
    "    \n",
    "        # 可视化或分析\n",
    "        print(\"Graph edges with weights:\")\n",
    "        for u, v, data in G.edges(data=True):\n",
    "            print(f\"Edge from {u} to {v}, weight = {data['weight']}\")\n",
    "        G_list.append(G)\n",
    "    else:\n",
    "        print(\"The transition matrix is not valid. Please check your input.\")\n",
    "        G_list.append(None)\n"
   ]
  },
  {
   "cell_type": "code",
   "execution_count": 69,
   "metadata": {
    "deletable": false,
    "lx_assignment_number": "vB",
    "lx_assignment_type": "EXAM",
    "lx_assignment_type2print": "Exam",
    "lx_problem_cell_type": "PROBLEM",
    "lx_problem_number": "3",
    "lx_problem_points": "13"
   },
   "outputs": [
    {
     "name": "stdout",
     "output_type": "stream",
     "text": [
      "Is the Markov chain irreducible? False True\n"
     ]
    }
   ],
   "source": [
    "# PART 2\n",
    "#------------------------REDUCIBLE -------------------------------\n",
    "# Answer each one with a True or False\n",
    "import networkx as nx\n",
    "G_A = nx.DiGraph(problem3_A)\n",
    "G_B = nx.DiGraph(problem3_B)\n",
    "\n",
    "problem3_A_irreducible = nx.is_strongly_connected(G_A)\n",
    "problem3_B_irreducible = nx.is_strongly_connected(G_B)\n",
    "\n",
    "print(\"Is the Markov chain irreducible?\", problem3_A_irreducible, problem3_B_irreducible)"
   ]
  },
  {
   "cell_type": "code",
   "execution_count": 58,
   "metadata": {},
   "outputs": [],
   "source": [
    "import numpy as np\n",
    "import networkx as nx\n",
    "from math import gcd\n",
    "from functools import reduce\n",
    "\n",
    "def calculate_periods(P):\n",
    "    \"\"\"\n",
    "    计算每个状态的周期，并检查整个马尔可夫链的周期性。\n",
    "    \n",
    "    参数：\n",
    "    - P (ndarray): 转移矩阵。\n",
    "\n",
    "    返回：\n",
    "    - periods (list): 每个状态的周期。\n",
    "    \"\"\"\n",
    "    # 构建有向图\n",
    "    G = nx.DiGraph(P)\n",
    "    \n",
    "    # 获取强连通分量\n",
    "    scc = list(nx.strongly_connected_components(G))\n",
    "    \n",
    "    # 记录每个状态的周期\n",
    "    state_periods = np.zeros(P.shape[0], dtype=int)\n",
    "    \n",
    "    # 遍历每个强连通分量\n",
    "    for component in scc:\n",
    "        component = list(component)\n",
    "        submatrix = P[np.ix_(component, component)]  # 提取子矩阵\n",
    "        \n",
    "        # 找到分量内的所有状态周期\n",
    "        component_period = []\n",
    "        for i in range(len(component)):\n",
    "            state = component[i]\n",
    "            times = []\n",
    "            \n",
    "            # 检查从状态 state 回到自身的所有步数\n",
    "            for t in range(1, 100):  # 假设最多计算 100 步\n",
    "                P_t = np.linalg.matrix_power(submatrix, t)\n",
    "                if P_t[i, i] > 0:  # 如果 t 步能回到自身\n",
    "                    times.append(t)\n",
    "            \n",
    "            # 计算 gcd\n",
    "            if times:\n",
    "                component_period.append(reduce(gcd, times))\n",
    "        \n",
    "        # 如果 component_period 有值，设置所有状态的周期为分量周期\n",
    "        if component_period:\n",
    "            period = reduce(gcd, component_period)\n",
    "            for state in component:\n",
    "                state_periods[state] = period\n",
    "    \n",
    "    return state_periods"
   ]
  },
  {
   "cell_type": "code",
   "execution_count": 59,
   "metadata": {},
   "outputs": [],
   "source": [
    "import numpy as np\n",
    "from math import gcd\n",
    "from numpy.linalg import matrix_power\n",
    "\n",
    "def find_periods(P, max_steps=100, tol=1e-10):\n",
    "    n = P.shape[0]\n",
    "    periods = []\n",
    "    \n",
    "    for i in range(n):\n",
    "        return_times = []\n",
    "        for t in range(1, max_steps + 1):  # Test up to max_steps\n",
    "            P_t = matrix_power(P, t)\n",
    "            if P_t[i, i] > tol:  # Allow small tolerance for numerical errors\n",
    "                return_times.append(t)\n",
    "        \n",
    "        if not return_times:  # If no return times found, state is transient\n",
    "            periods.append(None)  # Mark as transient\n",
    "            continue\n",
    "        \n",
    "        # Compute GCD of all return times\n",
    "        state_period = return_times[0]\n",
    "        for rt in return_times[1:]:\n",
    "            state_period = gcd(state_period, rt)\n",
    "        \n",
    "        periods.append(state_period)\n",
    "    \n",
    "    return periods"
   ]
  },
  {
   "cell_type": "code",
   "execution_count": 60,
   "metadata": {
    "deletable": false,
    "lx_assignment_number": "vB",
    "lx_assignment_type": "EXAM",
    "lx_assignment_type2print": "Exam",
    "lx_problem_cell_type": "PROBLEM",
    "lx_problem_number": "3",
    "lx_problem_points": "13"
   },
   "outputs": [
    {
     "name": "stdout",
     "output_type": "stream",
     "text": [
      "Periods for each state: [2, 2, 2, 2]\n",
      "Is the Markov chain aperiodic? False\n",
      "Periods for each state: [1, 1, 1, 1, 1, 1]\n",
      "Is the Markov chain aperiodic? True\n"
     ]
    }
   ],
   "source": [
    "# PART 3\n",
    "#------------------------APERIODIC-------------------------------\n",
    "# Answer each one with a True or False\n",
    "\n",
    "# 3. 计算状态的周期\n",
    "problem3_A_periods = find_periods(problem3_A, max_steps=100)# Increase max_steps if needed\n",
    "is_aperiodic = all(p == 1 for p in problem3_A_periods if p is not None)\n",
    "print(\"Periods for each state:\", problem3_A_periods)\n",
    "print(\"Is the Markov chain aperiodic?\", is_aperiodic)\n",
    "\n",
    "problem3_B_periods = find_periods(problem3_B, max_steps=100)# Increase max_steps if needed\n",
    "is_aperiodic = all(p == 1 for p in problem3_B_periods if p is not None)\n",
    "print(\"Periods for each state:\", problem3_B_periods)\n",
    "print(\"Is the Markov chain aperiodic?\", is_aperiodic)"
   ]
  },
  {
   "cell_type": "code",
   "execution_count": 61,
   "metadata": {},
   "outputs": [],
   "source": [
    "import numpy as np\n",
    "\n",
    "def probability_at_time(P, initial_state, target_state, steps):\n",
    "    \"\"\"\n",
    "    计算从初始状态 `initial_state` 出发，在经过 `steps` 次转移后，\n",
    "    到达目标状态 `target_state` 的概率。\n",
    "    \n",
    "    参数:\n",
    "    - P (ndarray): 马尔可夫链的转移矩阵。\n",
    "    - initial_state (int): 初始状态的索引（从0开始）。\n",
    "    - target_state (int): 目标状态的索引（从0开始）。\n",
    "    - steps (int): 马尔可夫链的步数。\n",
    "    \n",
    "    返回:\n",
    "    - float: 在 `steps` 步后到达目标状态的概率。\n",
    "    \"\"\"\n",
    "    # 计算 P^steps\n",
    "    P_steps = np.linalg.matrix_power(P, steps)\n",
    "    # 返回目标状态的概率\n",
    "    # 从结果矩阵 P^t中取出初始状态到目标状态的概率 P^t[initial_state,target_state]\n",
    "    return P_steps[initial_state-1, target_state-1]"
   ]
  },
  {
   "cell_type": "code",
   "execution_count": 62,
   "metadata": {
    "deletable": false,
    "lx_assignment_number": "vB",
    "lx_assignment_type": "EXAM",
    "lx_assignment_type2print": "Exam",
    "lx_problem_cell_type": "PROBLEM",
    "lx_problem_number": "3",
    "lx_problem_points": "13"
   },
   "outputs": [
    {
     "name": "stdout",
     "output_type": "stream",
     "text": [
      "概率：0.872\n",
      "概率：0.375\n"
     ]
    }
   ],
   "source": [
    "# PART 4\n",
    "\n",
    "# Answer the following with the probability of being in state B at time 5 for the two problems\n",
    "problem3_A_PB5 = probability_at_time(problem3_A, initial_state=1, target_state=2, steps=5)\n",
    "print(f\"概率：{problem3_A_PB5}\")\n",
    "problem3_B_PB5 = probability_at_time(problem3_B, initial_state=1, target_state=2, steps=5)\n",
    "print(f\"概率：{problem3_B_PB5}\")"
   ]
  },
  {
   "cell_type": "markdown",
   "metadata": {},
   "source": [
    "# 修正"
   ]
  },
  {
   "cell_type": "code",
   "execution_count": 43,
   "metadata": {},
   "outputs": [],
   "source": [
    "def first_hit_probability_at_t(P, initial_state, target_state, t):\n",
    "    \"\"\"\n",
    "    计算：从 1-based 索引的状态 `initial_state` 出发，\n",
    "         在第 t 步【首次】到达状态 `target_state` (1-based) 的概率。\n",
    "\n",
    "    使用“首次到达时间”递推 (First Step Analysis)。\n",
    "    \n",
    "    参数：\n",
    "    - P: 转移矩阵 (n x n)，(Python内部 0-based)。\n",
    "    - initial_state: 初始状态 (1-based 索引)。\n",
    "    - target_state:  目标状态 (1-based 索引)。\n",
    "    - t: 第 t 步 (int)。\n",
    "\n",
    "    返回：\n",
    "    - float: P(T = t)，即第 t 步首次到达的概率。\n",
    "    \"\"\"\n",
    "    n = P.shape[0]\n",
    "    if t < 1:\n",
    "        return 0.0\n",
    "\n",
    "    # 转成 0-based\n",
    "    init_idx = initial_state - 1\n",
    "    targ_idx = target_state - 1\n",
    "\n",
    "    # 如果初始态就是目标态，则第0步就“到达”了\n",
    "    if init_idx == targ_idx:\n",
    "        # 通常定义“首次到达”第0步概率 = 1.0, 所以 t>=1 时就不会再是“首次”\n",
    "        return 1.0 if t == 0 else 0.0\n",
    "\n",
    "    # f[step, i] = 从 i 出发，第 step 步首次到达 targ_idx 的概率\n",
    "    # 注意 i, targ_idx 都是 0-based\n",
    "    f = np.zeros((t+1, n))\n",
    "\n",
    "    # 初始化: step=1 的情况, f[1, i] = P(i->targ_idx)，对 i != targ_idx\n",
    "    for i in range(n):\n",
    "        if i != targ_idx:\n",
    "            f[1, i] = P[i, targ_idx]\n",
    "\n",
    "    # 递推: f[step+1, i] = sum_{j != targ_idx} P(i->j)*f[step,j]\n",
    "    for step in range(1, t):\n",
    "        for i in range(n):\n",
    "            if i != targ_idx:\n",
    "                f[step+1, i] = 0.0\n",
    "                for j in range(n):\n",
    "                    if j != targ_idx:\n",
    "                        f[step+1, i] += P[i, j] * f[step, j]\n",
    "\n",
    "    # 返回：从 init_idx 出发，第 t 步首次到达 targ_idx\n",
    "    return f[t, init_idx]\n",
    "\n",
    "\n",
    "def first_hit_probability(P, initial_state, target_state, T):\n",
    "    \"\"\"\n",
    "    返回一个列表 [P(T=1), P(T=2), ..., P(T=T)] (1-based 索引)，\n",
    "    表示从 `initial_state` (1-based) 出发，到 `target_state` (1-based)，\n",
    "    在 第1步/第2步/.../第T步 首次到达 的概率。\n",
    "    \"\"\"\n",
    "    probs = []\n",
    "    for t in range(1, T+1):\n",
    "        val = first_hit_probability_at_t(P, initial_state, target_state, t)\n",
    "        probs.append(val)\n",
    "    return probs\n"
   ]
  },
  {
   "cell_type": "code",
   "execution_count": 44,
   "metadata": {},
   "outputs": [],
   "source": [
    "def probability_at_infinity(P, initial_state, target_state, T_max=100, tol=1e-12):\n",
    "    \"\"\"\n",
    "    计算 P(T=∞) (1-based 索引)，即“从 `initial_state` 出发，永远不访问 `target_state` 的概率”。\n",
    "\n",
    "    思路：\n",
    "      - 累加 P(T=t) (t=1..T_max)，即到达事件的总概率(截断)。\n",
    "      - 若总和 < 1-某阈值，则其余部分≈ P(T=∞).\n",
    "\n",
    "    参数:\n",
    "    - P: (n x n) 转移矩阵 (0-based 内部)\n",
    "    - initial_state: 1-based\n",
    "    - target_state: 1-based\n",
    "    - T_max: 累加到多少步为止 (可根据规模增大)\n",
    "    - tol: 判定是否近乎 1\n",
    "\n",
    "    返回:\n",
    "    - float: 近似的 P(T=∞)\n",
    "    \"\"\"\n",
    "    # 累加 \"首次到达\" 概率到 T_max 步\n",
    "    p_list = first_hit_probability(P, initial_state, target_state, T_max)\n",
    "    total_reach = np.sum(p_list)\n",
    "    # 若 total_reach < 1, 剩下就是 T=∞ 的概率\n",
    "    p_infinity = max(0.0, 1.0 - total_reach)\n",
    "\n",
    "    # 如果 total_reach 已经大于 1-tol，则视为几乎必达\n",
    "    # 这里就简单返回 p_infinity；可以按需求改\n",
    "    return p_infinity"
   ]
  },
  {
   "cell_type": "code",
   "execution_count": 47,
   "metadata": {
    "deletable": false,
    "lx_assignment_number": "vB",
    "lx_assignment_type": "EXAM",
    "lx_assignment_type2print": "Exam",
    "lx_problem_cell_type": "PROBLEM",
    "lx_problem_number": "3",
    "lx_problem_points": "13"
   },
   "outputs": [
    {
     "name": "stdout",
     "output_type": "stream",
     "text": [
      "首次到达目标状态的概率: [0.8, 0.0, 0.0, 0.0, 0.0]\n",
      "首次到达目标状态的概率: 0.19999999999999996\n",
      "\n",
      "首次到达目标状态的概率: [0.0, 0.0, 0.5, 0.0, 0.25]\n",
      "首次到达目标状态的概率: 1.7763568394002505e-15\n"
     ]
    }
   ],
   "source": [
    "# PART 5\n",
    "\n",
    "# Answer the following probabilities for T=1,2,3,4,5 and infinity\n",
    "# problem3_A_PT1 = first_hit_probability(problem3_A, initial_state=1, target_state=4, T=1)\n",
    "# print(f\"首次到达目标状态的概率: {problem3_A_PT1}\")\n",
    "# problem3_A_PT2 = first_hit_probability(problem3_A, initial_state=1, target_state=4, T=2)\n",
    "# print(f\"首次到达目标状态的概率: {problem3_A_PT2}\")\n",
    "# problem3_A_PT3 = first_hit_probability(problem3_A, initial_state=1, target_state=4, T=3)\n",
    "# print(f\"首次到达目标状态的概率: {problem3_A_PT3}\")\n",
    "# problem3_A_PT4 = first_hit_probability(problem3_A, initial_state=1, target_state=4, T=4)\n",
    "# print(f\"首次到达目标状态的概率: {problem3_A_PT4}\")\n",
    "problem3_A_PT5 = first_hit_probability(problem3_A, initial_state=1, target_state=4, T=5)\n",
    "print(f\"首次到达目标状态的概率: {problem3_A_PT5}\")\n",
    "problem3_A_PT_inf = probability_at_infinity(problem3_A, initial_state=1, target_state=4)\n",
    "print(f\"首次到达目标状态的概率: {problem3_A_PT_inf}\")\n",
    "print()\n",
    "# problem3_B_PT1 = first_hit_probability(problem3_B, initial_state=1, target_state=4, T=1)\n",
    "# print(f\"首次到达目标状态的概率: {problem3_B_PT1}\")\n",
    "# problem3_B_PT2 = first_hit_probability(problem3_B, initial_state=1, target_state=4, T=2)\n",
    "# print(f\"首次到达目标状态的概率: {problem3_B_PT2}\")\n",
    "# problem3_B_PT3 = first_hit_probability(problem3_B, initial_state=1, target_state=4, T=3)\n",
    "# print(f\"首次到达目标状态的概率: {problem3_B_PT3}\")\n",
    "# problem3_B_PT4 = first_hit_probability(problem3_B, initial_state=1, target_state=4, T=4)\n",
    "# print(f\"首次到达目标状态的概率: {problem3_B_PT4}\")    \n",
    "problem3_B_PT5 = first_hit_probability(problem3_B, initial_state=1, target_state=4, T=5)\n",
    "print(f\"首次到达目标状态的概率: {problem3_B_PT5}\")\n",
    "problem3_B_PT_inf = probability_at_infinity(problem3_B, initial_state=1, target_state=4)\n",
    "print(f\"首次到达目标状态的概率: {problem3_B_PT_inf}\")"
   ]
  },
  {
   "cell_type": "code",
   "execution_count": null,
   "metadata": {},
   "outputs": [],
   "source": []
  }
 ],
 "metadata": {
  "kernelspec": {
   "display_name": "Python 3",
   "language": "python",
   "name": "python3"
  },
  "language_info": {
   "codemirror_mode": {
    "name": "ipython",
    "version": 3
   },
   "file_extension": ".py",
   "mimetype": "text/x-python",
   "name": "python",
   "nbconvert_exporter": "python",
   "pygments_lexer": "ipython3",
   "version": "3.8.5"
  },
  "lx_assignment_number": "vB",
  "lx_course_instance": "2024",
  "lx_course_name": "Introduction to Data Science",
  "lx_course_number": "1MS041"
 },
 "nbformat": 4,
 "nbformat_minor": 5
}
