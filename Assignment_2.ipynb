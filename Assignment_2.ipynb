{
 "cells": [
  {
   "cell_type": "markdown",
   "metadata": {
    "deletable": false
   },
   "source": [
    "\n",
    "# Assignment 2 for Course 1MS041\n",
    "Make sure you pass the `# ... Test` cells and\n",
    " submit your solution notebook in the corresponding assignment on the course website. You can submit multiple times before the deadline and your highest score will be used."
   ]
  },
  {
   "cell_type": "markdown",
   "metadata": {
    "deletable": false,
    "lx_assignment_number": "2",
    "lx_assignment_type": "ASSIGNMENT",
    "lx_assignment_type2print": "Assignment",
    "lx_problem_cell_type": "PROBLEM",
    "lx_problem_number": "1",
    "lx_problem_points": "8"
   },
   "source": [
    "---\n",
    "## Assignment 2, PROBLEM 1\n",
    "Maximum Points = 8"
   ]
  },
  {
   "cell_type": "markdown",
   "metadata": {
    "deletable": false,
    "lx_assignment_number": "2",
    "lx_assignment_type": "ASSIGNMENT",
    "lx_assignment_type2print": "Assignment",
    "lx_problem_cell_type": "PROBLEM",
    "lx_problem_number": "1",
    "lx_problem_points": "8"
   },
   "source": [
    "\n",
    "A courier company operates a fleet of delivery trucks that make deliveries to different parts of the city. The trucks are equipped with GPS tracking devices that record the location of each truck at regular intervals. The locations are divided into three regions: downtown, the suburbs, and the countryside. The following table shows the probabilities of a truck transitioning between these regions at each time step:\n",
    "\n",
    "| Current region | Probability of transitioning to downtown | Probability of transitioning to the suburbs | Probability of transitioning to the countryside |\n",
    "|----------------|--------------------------------------------|-----------------------------------------------|------------------------------------------------|\n",
    "| Downtown       | 0.3                                      | 0.4                                           | 0.3                                            |\n",
    "| Suburbs        | 0.2                                      | 0.5                                           | 0.3                                            |\n",
    "| Countryside    | 0.4                                      | 0.3                                           | 0.3                                            |\n",
    "\n",
    "1. If a truck is currently in the suburbs, what is the probability that it will be in the downtown region after two time steps? [1.5p]\n",
    "2. If a truck is currently in the suburbs, what is the probability that it will be in the downtown region **the first time** after two time steps? [1.5p]\n",
    "3. Is this Markov chain irreducible? [1.5p]\n",
    "4. What is the stationary distribution? [1.5p]\n",
    "5. Advanced question:  What is the expected number of steps until the first time one enters the downtown region having started in the suburbs region. Hint: to get within 1 decimal point, it is enough to compute the probabilities for hitting times below 30. [2p]\n",
    "\n"
   ]
  },
  {
   "cell_type": "code",
   "execution_count": 2,
   "metadata": {},
   "outputs": [],
   "source": [
    "# Part 1\n",
    "import numpy as np\n",
    "\n",
    "def probability_at_time(P, initial_state, target_state, steps):\n",
    "    \"\"\"\n",
    "    计算从初始状态 `initial_state` 出发，在经过 `steps` 次转移后，\n",
    "    到达目标状态 `target_state` 的概率。\n",
    "    \n",
    "    参数:\n",
    "    - P (ndarray): 马尔可夫链的转移矩阵。\n",
    "    - initial_state (int): 初始状态的索引（从0开始）。\n",
    "    - target_state (int): 目标状态的索引（从0开始）。\n",
    "    - steps (int): 马尔可夫链的步数。\n",
    "    \n",
    "    返回:\n",
    "    - float: 在 `steps` 步后到达目标状态的概率。\n",
    "    \"\"\"\n",
    "    # 计算 P^steps\n",
    "    P_steps = np.linalg.matrix_power(P, steps)\n",
    "    # 返回目标状态的概率\n",
    "    # 从结果矩阵 P^t中取出初始状态到目标状态的概率 P^t[initial_state,target_state]\n",
    "    return P_steps[initial_state-1, target_state-1]"
   ]
  },
  {
   "cell_type": "code",
   "execution_count": 3,
   "metadata": {},
   "outputs": [
    {
     "name": "stdout",
     "output_type": "stream",
     "text": [
      "概率：0.28\n"
     ]
    }
   ],
   "source": [
    "P = np.array([\n",
    "    [0.3, 0.4, 0.3],\n",
    "    [0.2, 0.5, 0.3],\n",
    "    [0.4, 0.3, 0.3]\n",
    "])\n",
    "\n",
    "# 从状态2出发，经过2步到达状态1的概率\n",
    "problem1_p1 = probability_at_time(P, initial_state=2, target_state=1, steps=2)\n",
    "print(f\"概率：{problem1_p1}\")"
   ]
  },
  {
   "cell_type": "code",
   "execution_count": 4,
   "metadata": {
    "deletable": false,
    "lx_assignment_number": "2",
    "lx_assignment_type": "ASSIGNMENT",
    "lx_assignment_type2print": "Assignment",
    "lx_problem_cell_type": "PROBLEM",
    "lx_problem_number": "1",
    "lx_problem_points": "8"
   },
   "outputs": [],
   "source": [
    "# import numpy as np\n",
    "# import math\n",
    "# # Part 1\n",
    "# transition = np.array([\n",
    "#     [0.3, 0.4, 0.3],\n",
    "#     [0.2, 0.5, 0.3],\n",
    "#     [0.4, 0.3, 0.3]\n",
    "# ])\n",
    "# loc_cur = np.array([0, 1, 0])\n",
    "# transition_two_steps = np.matmul(transition,transition)\n",
    "# # print(transition_two_steps)\n",
    "# loc_two_steps = np.matmul(loc_cur,transition_two_steps)\n",
    "# # print(loc_two_steps)\n",
    "# # Fill in the answer to part 1 below as a decimal number\n",
    "# problem1_p1 = loc_two_steps[0]\n",
    "# print(problem1_p1)"
   ]
  },
  {
   "cell_type": "code",
   "execution_count": 7,
   "metadata": {
    "deletable": false,
    "lx_assignment_number": "2",
    "lx_assignment_type": "ASSIGNMENT",
    "lx_assignment_type2print": "Assignment",
    "lx_problem_cell_type": "PROBLEM",
    "lx_problem_number": "1",
    "lx_problem_points": "8"
   },
   "outputs": [
    {
     "name": "stdout",
     "output_type": "stream",
     "text": [
      "0.22\n"
     ]
    }
   ],
   "source": [
    "# Part 2 第一种方法：代数方法\n",
    "P = np.array([\n",
    "    [0.3, 0.4, 0.3],\n",
    "    [0.2, 0.5, 0.3],\n",
    "    [0.4, 0.3, 0.3]\n",
    "])\n",
    "\n",
    "# Fill in the answer to part 2 below as a decimal number\n",
    "problem1_p2 = P[1,1] * P[1,0] + P[2,1] * P[2,0]\n",
    "print(problem1_p2)"
   ]
  },
  {
   "cell_type": "code",
   "execution_count": 8,
   "metadata": {},
   "outputs": [],
   "source": [
    "# Part 2 第二种方法：代码方法\n",
    "import numpy as np\n",
    "\n",
    "def first_hit_probability(P, initial_state, target_state, steps):\n",
    "    \"\"\"\n",
    "    计算从初始状态到目标状态，在指定步数 (steps) 首次到达的概率。\n",
    "\n",
    "    参数：\n",
    "    - P (ndarray): 转移矩阵 (n x n)。\n",
    "    - initial_state (int): 初始状态 (1-based index)。\n",
    "    - target_state (int): 目标状态 (1-based index)。\n",
    "    - steps (int): 步数。\n",
    "\n",
    "    返回：\n",
    "    - float: 在 steps 步首次到达 target_state 的概率。\n",
    "    \"\"\"\n",
    "    # 检查步数是否至少为 1\n",
    "    if steps < 1:\n",
    "        raise ValueError(\"Steps must be at least 1.\")\n",
    "    \n",
    "    # 转换到 0-based index\n",
    "    initial_idx = initial_state - 1\n",
    "    target_idx = target_state - 1\n",
    "    \n",
    "    # 计算 P^t (t=1 到 steps)\n",
    "    P_t = np.linalg.matrix_power(P, steps)  # P^steps\n",
    "    P_t_minus_1 = np.linalg.matrix_power(P, steps - 1) if steps > 1 else np.zeros_like(P)  # P^(steps-1)\n",
    "    \n",
    "    # 计算目标状态在 t 步时的概率\n",
    "    prob_at_t = P_t[initial_idx, target_idx]\n",
    "    \n",
    "    # 计算在 (t-1) 步时未到达目标状态的概率\n",
    "    prob_not_before_t = 1.0\n",
    "    if steps > 1:\n",
    "        prob_not_before_t -= P_t_minus_1[initial_idx, target_idx]\n",
    "    \n",
    "    # 首次到达的概率\n",
    "    first_hit_prob = prob_at_t * prob_not_before_t\n",
    "    \n",
    "    return first_hit_prob\n"
   ]
  },
  {
   "cell_type": "code",
   "execution_count": 9,
   "metadata": {},
   "outputs": [
    {
     "name": "stdout",
     "output_type": "stream",
     "text": [
      "首次到达目标状态的概率: 0.22400000000000003\n"
     ]
    }
   ],
   "source": [
    "P = np.array([\n",
    "    [0.3, 0.4, 0.3],\n",
    "    [0.2, 0.5, 0.3],\n",
    "    [0.4, 0.3, 0.3]\n",
    "])\n",
    "\n",
    "result = first_hit_probability(P, initial_state=2, target_state=1, steps=2)\n",
    "print(f\"首次到达目标状态的概率: {result}\")"
   ]
  },
  {
   "cell_type": "code",
   "execution_count": 10,
   "metadata": {
    "deletable": false,
    "lx_assignment_number": "2",
    "lx_assignment_type": "ASSIGNMENT",
    "lx_assignment_type2print": "Assignment",
    "lx_problem_cell_type": "PROBLEM",
    "lx_problem_number": "1",
    "lx_problem_points": "8",
    "scrolled": true
   },
   "outputs": [
    {
     "name": "stdout",
     "output_type": "stream",
     "text": [
      "Is the Markov chain irreducible? True\n"
     ]
    }
   ],
   "source": [
    "# Part 3\n",
    "\n",
    "# Fill in the answer to part 3 below as a boolean\n",
    "import networkx as nx\n",
    "\n",
    "G = nx.DiGraph(P)\n",
    "problem1_irreducible = nx.is_strongly_connected(G)\n",
    "print(\"Is the Markov chain irreducible?\", problem1_irreducible)"
   ]
  },
  {
   "cell_type": "code",
   "execution_count": 13,
   "metadata": {
    "deletable": false,
    "lx_assignment_number": "2",
    "lx_assignment_type": "ASSIGNMENT",
    "lx_assignment_type2print": "Assignment",
    "lx_problem_cell_type": "PROBLEM",
    "lx_problem_number": "1",
    "lx_problem_points": "8"
   },
   "outputs": [
    {
     "name": "stdout",
     "output_type": "stream",
     "text": [
      "[0.28888889 0.41111111 0.3       ]\n",
      "1.0\n"
     ]
    }
   ],
   "source": [
    "# Part 4 第一种方法：代数方法\n",
    "\n",
    "# Fill in the answer to part 4 below\n",
    "# the answer should be a numpy array of length 3\n",
    "# make sure that the entries sums to 1!\n",
    "\n",
    "# π = [π_1, π_2, π_3], and πP=π, π_1 + π_2 + π_3 = 1\n",
    "# construct (P-λ)π = 0\n",
    "T = P.T - np.eye(3)\n",
    "T = np.vstack([\n",
    "    T, np.array([1, 1, 1])\n",
    "])\n",
    "b = np.array([0, 0, 0, 1]) # π_1 + π_2 + π_3 = 1\n",
    "\n",
    "problem1_stationary = np.linalg.lstsq(T, b, rcond=None)[0]\n",
    "# check if the entries sums to 1\n",
    "print(problem1_stationary)\n",
    "# 检查\n",
    "a = problem1_stationary[0]+problem1_stationary[1]+problem1_stationary[2]\n",
    "print(a)"
   ]
  },
  {
   "cell_type": "code",
   "execution_count": 14,
   "metadata": {},
   "outputs": [
    {
     "name": "stdout",
     "output_type": "stream",
     "text": [
      "稳态分布: [0.28888889 0.41111111 0.3       ]\n"
     ]
    }
   ],
   "source": [
    "# Part 4 第二种方法：zc的代码方法\n",
    "# 平稳分布 (stationary distribution)\n",
    "from scipy.linalg import eig\n",
    "\n",
    "P = np.array([\n",
    "    [0.3, 0.4, 0.3],\n",
    "    [0.2, 0.5, 0.3],\n",
    "    [0.4, 0.3, 0.3]\n",
    "])\n",
    "# M.T 是矩阵的转置，因为我们要求的是 M.T @ pi = pi\n",
    "eigvals, eigvecs = np.linalg.eig(P.T)\n",
    "steady_state = eigvecs[:, np.isclose(eigvals, 1)]  # 取特征值为 1 的特征向量\n",
    "steady_state = steady_state / np.sum(steady_state)  # 归一化\n",
    "print(\"稳态分布:\", steady_state.real.flatten())"
   ]
  },
  {
   "cell_type": "code",
   "execution_count": 15,
   "metadata": {
    "deletable": false,
    "lx_assignment_number": "2",
    "lx_assignment_type": "ASSIGNMENT",
    "lx_assignment_type2print": "Assignment",
    "lx_problem_cell_type": "PROBLEM",
    "lx_problem_number": "1",
    "lx_problem_points": "8"
   },
   "outputs": [
    {
     "name": "stdout",
     "output_type": "stream",
     "text": [
      "3.85\n"
     ]
    }
   ],
   "source": [
    "# Part 5 第一种方法：代数方法\n",
    "# Fill in the answer to part 5 below\n",
    "# That is, the expected number of steps as a decimal number\n",
    "# start from suburbs:\n",
    "# steps_suburbs = 1 + 0.2 * steps_downtown + 0.5 * steps_suburbs + 0.3 * steps_countryside\n",
    "# start from contryside:\n",
    "# steps_countryside = 1 + 0.4 * steps_downtown + 0.3 * steps_suburbs + 0.3 * steps_countryside\n",
    "# steps_downtown = 0\n",
    "# we can have coefficient matrix:\n",
    "A = np.array([[0.5, -0.3], \n",
    "              [-0.3, 0.7]])\n",
    "B = np.array([1, 1])\n",
    "solution = np.linalg.solve(A, B)\n",
    "steps_suburbs, steps_countryside = solution\n",
    "    \n",
    "problem1_ET = steps_suburbs\n",
    "print(round(problem1_ET, 2))"
   ]
  },
  {
   "cell_type": "code",
   "execution_count": 16,
   "metadata": {},
   "outputs": [],
   "source": [
    "# Part 5 第二种方法：zc的代码方法\n",
    "def calculate_first_hit_time_expectation(P, target_state):\n",
    "    \"\"\"\n",
    "    计算从每个状态到达目标状态的期望时间。\n",
    "    \n",
    "    参数:\n",
    "    - P: 转移矩阵 (numpy 数组)，表示每个状态之间的转移概率。\n",
    "    - target_state: 目标状态的索引。\n",
    "    \n",
    "    返回:\n",
    "    - h: 期望时间向量 (numpy 数组)，其中 h[i] 表示从状态 i 到目标状态的期望时间。\n",
    "    \"\"\"\n",
    "    n = P.shape[0]  # 状态空间的大小\n",
    "    \n",
    "    # 删除目标状态对应的行和列\n",
    "    P_minus = np.delete(P, target_state-1, axis=0)  # 删除第 target_state 行\n",
    "    P_minus = np.delete(P_minus, target_state-1, axis=1)  # 删除第 target_state 列\n",
    "    \n",
    "    # 计算 b 向量\n",
    "    # 这里计算的是公式中的向量P_row，表示每个状态的转移概率和（排除了目标状态）\n",
    "    b = np.sum(P, axis=1)  # 每一行的元素加总\n",
    "    b = -b  # 取负值\n",
    "\n",
    "    b = np.delete(b, target_state-1)\n",
    "    \n",
    "    # 构造线性方程组，计算期望时间向量 h\n",
    "    I = np.eye(n-1)  # (n-1)维单位矩阵\n",
    "    h = np.linalg.solve(P_minus - I, b)  # 解方程 (P_minus - I) * h = b\n",
    "    \n",
    "    # 插入目标状态的期望时间为 0\n",
    "    h_full = np.insert(h, target_state-1, 0)\n",
    "\n",
    "    return h_full"
   ]
  },
  {
   "cell_type": "code",
   "execution_count": 17,
   "metadata": {},
   "outputs": [
    {
     "name": "stdout",
     "output_type": "stream",
     "text": [
      "首达时间期望值：[0.         3.84615385 3.07692308]\n"
     ]
    }
   ],
   "source": [
    "# 从状态2(h_index=1)出发，首次到达状态1的期望时间\n",
    "efpt = calculate_first_hit_time_expectation(P,  target_state=1)\n",
    "print(f\"首达时间期望值：{efpt}\")"
   ]
  },
  {
   "cell_type": "markdown",
   "metadata": {
    "deletable": false,
    "lx_assignment_number": "2",
    "lx_assignment_type": "ASSIGNMENT",
    "lx_assignment_type2print": "Assignment",
    "lx_problem_cell_type": "PROBLEM",
    "lx_problem_number": "2",
    "lx_problem_points": "4"
   },
   "source": [
    "---\n",
    "## Assignment 2, PROBLEM 2\n",
    "Maximum Points = 4"
   ]
  },
  {
   "cell_type": "markdown",
   "metadata": {
    "deletable": false,
    "lx_assignment_number": "2",
    "lx_assignment_type": "ASSIGNMENT",
    "lx_assignment_type2print": "Assignment",
    "lx_problem_cell_type": "PROBLEM",
    "lx_problem_number": "2",
    "lx_problem_points": "4"
   },
   "source": [
    "\n",
    "Use the **Multi-dimensional Constrained Optimisation** example (in `07-Optimization.ipynb`) to numerically find the MLe for the mean and variance parameter based on `normallySimulatedDataSamples`, an array obtained by a specific simulation of $30$ IID samples from the $Normal(10,2)$ random variable.\n",
    "\n",
    "Recall that $Normal(\\mu, \\sigma^2)$ RV has the probability density function given by:\n",
    "\n",
    "$$\n",
    "f(x ;\\mu, \\sigma) = \\displaystyle\\frac{1}{\\sigma\\sqrt{2\\pi}}\\exp\\left(\\frac{-1}{2\\sigma^2}(x-\\mu)^2\\right)\n",
    "$$\n",
    "\n",
    "The two parameters, $\\mu \\in \\mathbb{R} := (-\\infty,\\infty)$ and $\\sigma \\in (0,\\infty)$, are sometimes referred to as the location and scale parameters.\n",
    "\n",
    "You know that the log likelihood function for $n$ IID samples from a Normal RV with parameters $\\mu$ and $\\sigma$ simply follows from $\\sum_{i=1}^n \\log(f(x_i; \\mu,\\sigma))$, based on the IID assumption. \n",
    "\n",
    "NOTE: When setting bounding boxes for $\\mu$ and $\\sigma$ try to start with some guesses like $[-20,20]$ and $[0.1,5.0]$ and make it larger if the solution is at the boundary. Making the left bounding-point for $\\sigma$ too close to $0.0$ will cause division by zero Warnings. Other numerical instabilities can happen in such iterative numerical solutions to the MLe. You need to be patient and learn by trial-and-error. You will see the mathematical theory in more details in a future course in scientific computing/optimisation. So don't worry too much now except learning to use it for our problems.  "
   ]
  },
  {
   "cell_type": "code",
   "execution_count": 18,
   "metadata": {
    "deletable": false,
    "lx_assignment_number": "2",
    "lx_assignment_type": "ASSIGNMENT",
    "lx_assignment_type2print": "Assignment",
    "lx_problem_cell_type": "PROBLEM",
    "lx_problem_number": "2",
    "lx_problem_points": "4"
   },
   "outputs": [
    {
     "name": "stdout",
     "output_type": "stream",
     "text": [
      "1.7082014662243967\n"
     ]
    },
    {
     "data": {
      "text/plain": [
       "      fun: 58.631387282367186\n",
       " hess_inv: <2x2 LbfgsInvHessProduct with dtype=float64>\n",
       "      jac: array([1.42108535e-06, 1.42108548e-06])\n",
       "  message: b'CONVERGENCE: NORM_OF_PROJECTED_GRADIENT_<=_PGTOL'\n",
       "     nfev: 21\n",
       "      nit: 5\n",
       "     njev: 7\n",
       "   status: 0\n",
       "  success: True\n",
       "        x: array([9.26861976, 1.70820149])"
      ]
     },
     "execution_count": 18,
     "metadata": {},
     "output_type": "execute_result"
    }
   ],
   "source": [
    "\n",
    "import numpy as np\n",
    "from scipy import optimize\n",
    "# do NOT change the next three lines\n",
    "np.random.seed(123456) # set seed\n",
    "# simulate 30 IID samples drawn from Normal(10,2)RV\n",
    "normallySimulatedDataSamples = np.random.normal(10,2,30) \n",
    "print(normallySimulatedDataSamples.std())\n",
    "\n",
    "# define the negative log likelihoo function you want to minimise by editing XXX\n",
    "def negLogLklOfIIDNormalSamples(parameters):\n",
    "    '''return the -log(likelihood) of normallySimulatedDataSamples with mean and var parameters'''\n",
    "    mu_param=parameters[0]\n",
    "    sigma_param=parameters[1]\n",
    "\n",
    "    n = len(normallySimulatedDataSamples)\n",
    "    x_i_minus_mu = normallySimulatedDataSamples - mu_param\n",
    "    \n",
    "    # Negative log likelihood function for normal distribution\n",
    "    neg_log_likelihood = (n / 2) * np.log(2 * np.pi) + n * np.log(sigma_param) + (np.sum(x_i_minus_mu**2) / (2 * sigma_param**2))\n",
    "    \n",
    "    return neg_log_likelihood\n",
    "\n",
    "# you should only change XXX below and not anything else\n",
    "parameter_bounding_box=((9, 11), (1.5, 2.5)) # specify the constraints for each parameter - some guess work...\n",
    "initial_arguments = np.array([0,0]) # point in 2D to initialise the minimize algorithm\n",
    "result_problem2_opt = optimize.minimize(negLogLklOfIIDNormalSamples, initial_arguments, bounds=parameter_bounding_box) \n",
    "# call the minimize method above finally! you need to play a bit to get initial conditions and bounding box ok\n",
    "result_problem2_opt\n"
   ]
  },
  {
   "cell_type": "markdown",
   "metadata": {
    "deletable": false,
    "lx_assignment_number": "2",
    "lx_assignment_type": "ASSIGNMENT",
    "lx_assignment_type2print": "Assignment",
    "lx_problem_cell_type": "PROBLEM",
    "lx_problem_number": "3",
    "lx_problem_points": "4"
   },
   "source": [
    "---\n",
    "## Assignment 2, PROBLEM 3\n",
    "Maximum Points = 4"
   ]
  },
  {
   "cell_type": "markdown",
   "metadata": {
    "deletable": false,
    "lx_assignment_number": "2",
    "lx_assignment_type": "ASSIGNMENT",
    "lx_assignment_type2print": "Assignment",
    "lx_problem_cell_type": "PROBLEM",
    "lx_problem_number": "3",
    "lx_problem_points": "4"
   },
   "source": [
    "\n",
    "\n",
    "Derive the maximum likelihood estimate for $n$ IID samples from a random variable with the following probability density function:\n",
    "$$\n",
    "f(x; \\lambda) = \\frac{1}{24} \\lambda^5 x^4 \\exp(-\\lambda x), \\qquad \\text{ where, } \\lambda>0, x > 0\n",
    "$$\n",
    "\n",
    "You can solve the MLe by hand (using pencil paper or using key-strokes). Present your solution as the return value of a function called `def MLeForAssignment2Problem3(x)`, where `x` is a list of $n$ input data points."
   ]
  },
  {
   "cell_type": "code",
   "execution_count": 19,
   "metadata": {
    "deletable": false,
    "lx_assignment_number": "2",
    "lx_assignment_type": "ASSIGNMENT",
    "lx_assignment_type2print": "Assignment",
    "lx_problem_cell_type": "PROBLEM",
    "lx_problem_number": "3",
    "lx_problem_points": "4"
   },
   "outputs": [],
   "source": [
    "\n",
    "# do not change the name of the function, just replace XXX with the appropriate expressions for the MLe\n",
    "def MLeForAssignment2Problem3(x):\n",
    "    '''write comment of what this function does'''\n",
    "    lenth = len(x)\n",
    "    mle = 5 * lenth / sum(x)\n",
    "    return mle"
   ]
  },
  {
   "cell_type": "markdown",
   "metadata": {
    "deletable": false,
    "lx_assignment_number": "2",
    "lx_assignment_type": "ASSIGNMENT",
    "lx_assignment_type2print": "Assignment",
    "lx_problem_cell_type": "PROBLEM",
    "lx_problem_number": "4",
    "lx_problem_points": "8"
   },
   "source": [
    "---\n",
    "## Assignment 2, PROBLEM 4\n",
    "Maximum Points = 8"
   ]
  },
  {
   "cell_type": "markdown",
   "metadata": {
    "deletable": false,
    "lx_assignment_number": "2",
    "lx_assignment_type": "ASSIGNMENT",
    "lx_assignment_type2print": "Assignment",
    "lx_problem_cell_type": "PROBLEM",
    "lx_problem_number": "4",
    "lx_problem_points": "8"
   },
   "source": [
    "\n",
    "## Random variable generation and transformation\n",
    "\n",
    "The purpose of this problem is to show that you can implement your own sampler, this will be built in the following three steps:\n",
    "\n",
    "1. [2p] Implement a Linear Congruential Generator where you tested out a good combination (a large $M$ with $a,b$ satisfying the Hull-Dobell (Thm 6.8)) of parameters. Follow the instructions in the code block.\n",
    "2. [2p] Using a generator construct random numbers from the uniform $[0,1]$ distribution.\n",
    "3. [4p] Using a uniform $[0,1]$ random generator, generate samples from \n",
    "\n",
    "$$p_0(x) = \\frac{\\pi}{2}|\\sin(2\\pi x)|, \\quad x \\in [0,1] \\enspace .$$\n",
    "\n",
    "Using the **Accept-Reject** sampler (**Algorithm 1** in TFDS notes) with sampling density given by the uniform $[0,1]$ distribution."
   ]
  },
  {
   "cell_type": "code",
   "execution_count": 20,
   "metadata": {
    "deletable": false,
    "lx_assignment_number": "2",
    "lx_assignment_type": "ASSIGNMENT",
    "lx_assignment_type2print": "Assignment",
    "lx_problem_cell_type": "PROBLEM",
    "lx_problem_number": "4",
    "lx_problem_points": "8"
   },
   "outputs": [],
   "source": [
    "\n",
    "def problem4_LCG(size=None, seed = 0):\n",
    "    \"\"\"\n",
    "    A linear congruential generator that generates pseudo random numbers according to size.\n",
    "    \n",
    "    Parameters\n",
    "    -------------\n",
    "    size : an integer denoting how many samples should be produced\n",
    "    seed : the starting point of the LCG, i.e. u0 in the notes.\n",
    "    \n",
    "    Returns\n",
    "    -------------\n",
    "    out : a list of the pseudo random numbers\n",
    "    \"\"\"\n",
    "    \n",
    "    M = 2**31 - 1  \n",
    "    a = 48271     \n",
    "    b = 0          \n",
    "    \n",
    "    numbers = []\n",
    "    current = seed\n",
    "    \n",
    "    for _ in range(size):\n",
    "        current = (a * current + b) % M\n",
    "        numbers.append(current)\n",
    "    \n",
    "    return numbers"
   ]
  },
  {
   "cell_type": "code",
   "execution_count": 21,
   "metadata": {
    "deletable": false,
    "lx_assignment_number": "2",
    "lx_assignment_type": "ASSIGNMENT",
    "lx_assignment_type2print": "Assignment",
    "lx_problem_cell_type": "PROBLEM",
    "lx_problem_number": "4",
    "lx_problem_points": "8"
   },
   "outputs": [],
   "source": [
    "\n",
    "def problem4_uniform(generator=None, period = 1, size=None, seed=0):\n",
    "    \"\"\"\n",
    "    Takes a generator and produces samples from the uniform [0,1] distribution according\n",
    "    to size.\n",
    "    \n",
    "    Parameters\n",
    "    -------------\n",
    "    generator : a function of type generator(size,seed) and produces the same result as problem1_LCG, i.e. pseudo random numbers in the range {0,1,...,period-1}\n",
    "    period : the period of the generator\n",
    "    seed : the seed to be used in the generator provided\n",
    "    size : an integer denoting how many samples should be produced\n",
    "    \n",
    "    Returns\n",
    "    --------------\n",
    "    out : a list of the uniform pseudo random numbers\n",
    "    \"\"\"\n",
    "    \n",
    "    raw_numbers = generator(size=size, seed=seed)\n",
    "    \n",
    "    uniform_numbers = [num / period for num in raw_numbers] #这里的period相当于模数M\n",
    "    \n",
    "    return uniform_numbers"
   ]
  },
  {
   "cell_type": "code",
   "execution_count": 22,
   "metadata": {
    "deletable": false,
    "lx_assignment_number": "2",
    "lx_assignment_type": "ASSIGNMENT",
    "lx_assignment_type2print": "Assignment",
    "lx_problem_cell_type": "PROBLEM",
    "lx_problem_number": "4",
    "lx_problem_points": "8"
   },
   "outputs": [],
   "source": [
    "import math\n",
    "def problem4_accept_reject(uniformGenerator=None, n_iterations=None, seed=0):\n",
    "    \"\"\"\n",
    "    Takes a generator that produces uniform pseudo random [0,1] numbers \n",
    "    and produces samples from (pi/2)*abs(sin(x*2*pi)) using an Accept-Reject\n",
    "    sampler with the uniform distribution as the proposal distribution.\n",
    "    Runs n_iterations\n",
    "    \n",
    "    Parameters\n",
    "    -------------\n",
    "    generator : a function of the type generator(size,seed) that produces uniform pseudo random\n",
    "    numbers from [0,1]\n",
    "    seed : the seed to be used in the generator provided\n",
    "    n_iterations : an integer denoting how many attempts should be made in the accept-reject sampler\n",
    "    \n",
    "    Returns\n",
    "    --------------\n",
    "    out : a list of the pseudo random numbers with the specified distribution\n",
    "    \"\"\"\n",
    "    \n",
    "\n",
    "    uniform_numbers = uniformGenerator(size=n_iterations, seed=seed)\n",
    "    out = []\n",
    "    \n",
    "    M = math.pi / 2\n",
    "    \n",
    "    # Accept-reject \n",
    "    for i in range(n_iterations):\n",
    "        x = uniform_numbers[i]  # x from 候选分布g(x)~ U[0, 1]\n",
    "        u = uniformGenerator(size=1, seed=seed + i + 1)[0]  # u from U[0, 1]\n",
    "        \n",
    "        r_x = M * abs(math.sin(2 * math.pi * x))\n",
    "        \n",
    "        # if y <= r(x), accept\n",
    "        if u <= r_x:\n",
    "            out.append(x)\n",
    "    \n",
    "    return out"
   ]
  },
  {
   "cell_type": "markdown",
   "metadata": {
    "deletable": false,
    "lx_assignment_number": "2",
    "lx_assignment_type": "ASSIGNMENT",
    "lx_assignment_type2print": "Assignment",
    "lx_problem_cell_type": "Test",
    "lx_problem_number": "4",
    "lx_problem_points": "8"
   },
   "source": [
    "---\n",
    "#### Local Test for Assignment 2, PROBLEM 4\n",
    "Evaluate cell below to make sure your answer is valid.                             You **should not** modify anything in the cell below when evaluating it to do a local test of                             your solution.\n",
    "You may need to include and evaluate code snippets from lecture notebooks in cells above to make the local test work correctly sometimes (see error messages for clues). This is meant to help you become efficient at recalling materials covered in lectures that relate to this problem. Such local tests will generally not be available in the exam."
   ]
  },
  {
   "cell_type": "code",
   "execution_count": 23,
   "metadata": {
    "deletable": false,
    "lx_assignment_number": "2",
    "lx_assignment_type": "ASSIGNMENT",
    "lx_assignment_type2print": "Assignment",
    "lx_problem_cell_type": "Test",
    "lx_problem_number": "4",
    "lx_problem_points": "8"
   },
   "outputs": [
    {
     "name": "stdout",
     "output_type": "stream",
     "text": [
      "LCG output: [48271, 182605794, 1291394886, 1914720637, 2078669041, 407355683, 1105902161, 854716505, 564586691, 1596680831]\n",
      "Uniform sampler [2.2477936010098986e-05, 0.08503244914348818, 0.6013526053174179, 0.8916112770753034, 0.9679557019695433, 0.18968977182623453, 0.514975824167475, 0.39800838818680884, 0.26290616545030204, 0.7435124515292758]\n",
      "Accept-Reject sampler [2.2477936010098986e-05, 0.08503244914348818, 0.6013526053174179, 0.8916112770753034, 0.9679557019695433, 0.18968977182623453, 0.514975824167475, 0.39800838818680884, 0.26290616545030204, 0.7435124515292758, 0.0895477696738894, 0.5603899283150164, 0.5822296941570144, 0.8095666532449269, 0.5919187858663121, 0.511712552752212, 0.8766339020229102, 0.9950845479010998, 0.7262117339885849, 0.9666113629781694]\n"
     ]
    }
   ],
   "source": [
    "\n",
    "# If you managed to solve all three parts you can test the following code to see if it runs\n",
    "# you have to change the period to match your LCG though, this is marked as XXX.\n",
    "# It is a very good idea to check these things using the histogram function in sagemath\n",
    "# try with a larger number of samples, up to 10000 should run\n",
    "\n",
    "print(\"LCG output: %s\" % problem4_LCG(size=10, seed = 1))\n",
    "\n",
    "period = 2**31 - 1\n",
    "\n",
    "print(\"Uniform sampler %s\" % problem4_uniform(generator=problem4_LCG, period = period, size=10, seed=1))\n",
    "\n",
    "uniform_sampler = lambda size,seed: problem4_uniform(generator=problem4_LCG, period = period, size=size, seed=seed)\n",
    "\n",
    "print(\"Accept-Reject sampler %s\" % problem4_accept_reject(uniformGenerator = uniform_sampler,n_iterations=20,seed=1))"
   ]
  },
  {
   "cell_type": "code",
   "execution_count": 24,
   "metadata": {
    "deletable": false,
    "lx_assignment_number": "2",
    "lx_assignment_type": "ASSIGNMENT",
    "lx_assignment_type2print": "Assignment",
    "lx_problem_cell_type": "Test",
    "lx_problem_number": "4",
    "lx_problem_points": "8"
   },
   "outputs": [
    {
     "name": "stdout",
     "output_type": "stream",
     "text": [
      "Accept-Reject sampler [0.13436424411240122, 0.8474337369372327, 0.763774618976614, 0.2550690257394217, 0.4494910647887381, 0.651592972722763, 0.7887233511355132, 0.0938595867742349, 0.8357651039198697, 0.43276706790505337, 0.762280082457942, 0.4453871940548014, 0.7215400323407826, 0.22876222127045265, 0.9014274576114836, 0.030589983033553536]\n"
     ]
    }
   ],
   "source": [
    "\n",
    "# If however you did not manage to implement either part 1 or part 2 but still want to check part 3, you can run the code below\n",
    "\n",
    "def testUniformGenerator(size,seed):\n",
    "    import random\n",
    "    random.seed(seed)\n",
    "    \n",
    "    return [random.uniform(0,1) for s in range(size)]\n",
    "\n",
    "print(\"Accept-Reject sampler %s\" % problem4_accept_reject(uniformGenerator=testUniformGenerator, n_iterations=20, seed=1))"
   ]
  },
  {
   "cell_type": "code",
   "execution_count": null,
   "metadata": {},
   "outputs": [],
   "source": []
  }
 ],
 "metadata": {
  "kernelspec": {
   "display_name": "Python 3",
   "language": "python",
   "name": "python3"
  },
  "language_info": {
   "codemirror_mode": {
    "name": "ipython",
    "version": 3
   },
   "file_extension": ".py",
   "mimetype": "text/x-python",
   "name": "python",
   "nbconvert_exporter": "python",
   "pygments_lexer": "ipython3",
   "version": "3.8.5"
  },
  "lx_assignment_number": 2,
  "lx_course_instance": "2024",
  "lx_course_name": "Introduction to Data Science",
  "lx_course_number": "1MS041"
 },
 "nbformat": 4,
 "nbformat_minor": 5
}
